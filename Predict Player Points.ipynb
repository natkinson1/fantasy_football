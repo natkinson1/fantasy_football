{
 "cells": [
  {
   "cell_type": "code",
   "execution_count": 1,
   "metadata": {},
   "outputs": [],
   "source": [
    "import numpy as np\n",
    "import pandas as pd\n",
    "import glob\n",
    "import pystan\n",
    "import re\n",
    "import matplotlib.pyplot as plt\n",
    "import numpyro\n",
    "import numpyro.distributions as dist\n",
    "from numpyro.infer import MCMC, NUTS, Predictive\n",
    "from player_model import PlayerModel"
   ]
  },
  {
   "cell_type": "code",
   "execution_count": 2,
   "metadata": {},
   "outputs": [],
   "source": [
    "player_list = glob.glob(f'./data/data/2020-21/players/*')"
   ]
  },
  {
   "cell_type": "code",
   "execution_count": 3,
   "metadata": {},
   "outputs": [],
   "source": [
    "id_player_dict = {}\n",
    "\n",
    "for row in player_list:\n",
    "    idx = int(re.findall('[0-9]+', row)[-1])\n",
    "    player_name = row.split('/')[-1]\n",
    "    \n",
    "    id_player_dict[idx] = player_name"
   ]
  },
  {
   "cell_type": "code",
   "execution_count": 4,
   "metadata": {},
   "outputs": [],
   "source": [
    "li = []\n",
    "\n",
    "for player in player_list:\n",
    "    idx = int(re.findall('[0-9]+', player)[-1])\n",
    "    df = pd.read_csv(player + '/gw.csv', usecols=['goals_scored',\n",
    "                                                  'assists',\n",
    "                                                  'clean_sheets',\n",
    "                                                  'minutes',\n",
    "                                                  'team_a_score',\n",
    "                                                  'team_h_score',\n",
    "                                                  'was_home'], nrows=38).assign(player_id=idx)\n",
    "    \n",
    "    \n",
    "    if df.shape[0] == 38:\n",
    "        df['gw'] = np.arange(1, 39).reshape(-1,1)\n",
    "        li.append(df)\n",
    "        \n",
    "    elif df.shape[0] < 38:\n",
    "        for _ in range(38 - df.shape[0]):\n",
    "            df = df.append(pd.Series([0,0,0,0,0,0,False,idx], index=df.columns), ignore_index=True)\n",
    "        df['gw'] = np.arange(1,39).reshape(-1,1)\n",
    "        li.append(df)\n",
    "    else:\n",
    "        continue\n",
    "    assert df.shape == (38, 9), 'Not all dfs are the same shape'\n",
    "\n",
    "data = pd.concat(li, axis=0, ignore_index=True)"
   ]
  },
  {
   "cell_type": "code",
   "execution_count": 5,
   "metadata": {
    "scrolled": true
   },
   "outputs": [
    {
     "name": "stderr",
     "output_type": "stream",
     "text": [
      "INFO:numexpr.utils:NumExpr defaulting to 8 threads.\n"
     ]
    }
   ],
   "source": [
    "data['team_goals'] = data['team_h_score'] * (data['was_home'] == True) + data['team_a_score'] * (data['was_home'] == False)"
   ]
  },
  {
   "cell_type": "code",
   "execution_count": 6,
   "metadata": {},
   "outputs": [],
   "source": [
    "element_type = pd.read_csv('./data/data/2020-21/players_raw.csv', usecols=['id', 'element_type'])\n",
    "element_team = pd.read_csv('./data/data/2020-21/players_raw.csv', usecols=['id', 'team'])"
   ]
  },
  {
   "cell_type": "code",
   "execution_count": 7,
   "metadata": {},
   "outputs": [],
   "source": [
    "data = data.merge(element_type, left_on='player_id', right_on='id', how='outer')"
   ]
  },
  {
   "cell_type": "code",
   "execution_count": 8,
   "metadata": {},
   "outputs": [],
   "source": [
    "element_type_dict = {1 : 'GKP', 2 : 'DEF', 3 : 'MID', 4: 'FWD'}"
   ]
  },
  {
   "cell_type": "code",
   "execution_count": 9,
   "metadata": {},
   "outputs": [],
   "source": [
    "data['element_type'] = data['element_type'].map(element_type_dict)"
   ]
  },
  {
   "cell_type": "code",
   "execution_count": 10,
   "metadata": {},
   "outputs": [],
   "source": [
    "def get_empirical_bayes_estimates(df_emp):\n",
    "    \"\"\"\n",
    "    Get starting values for the model based on averaging goals/assists/neither\n",
    "    over all players in that position\n",
    "    \"\"\"\n",
    "    # still not sure about this...\n",
    "    df = df_emp.copy()\n",
    "    #df = df[df[\"match_id\"] != 0]\n",
    "    goals = df['goals_scored'].sum()\n",
    "    assists = df[\"assists\"].sum()\n",
    "    clean_sheets = df['clean_sheets'].sum()\n",
    "    neither = df[\"neither\"].sum()\n",
    "    minutes = df[\"minutes\"].sum()\n",
    "    team = df[\"team_goals\"].sum()\n",
    "    total_minutes = 90 * len(df)\n",
    "    neff = df.groupby(\"player_id\").count()[\"goals_scored\"].mean()\n",
    "    a0 = neff * (goals / team) * (total_minutes / minutes)\n",
    "    a1 = neff * (assists / team) * (total_minutes / minutes)\n",
    "    a2 = neff * (clean_sheets / team) * (total_minutes / minutes)\n",
    "    a3 = (\n",
    "        neff\n",
    "        * ((neither / team) - (total_minutes - minutes) / total_minutes)\n",
    "        * (total_minutes / minutes)\n",
    "    )\n",
    "    alpha = np.array([a0, a1, a3])\n",
    "    return alpha"
   ]
  },
  {
   "cell_type": "code",
   "execution_count": 11,
   "metadata": {},
   "outputs": [],
   "source": [
    "def process_player_data(df):\n",
    "    \"\"\"\n",
    "    transform the player dataframe, basically giving a list (for each player)\n",
    "    of lists of minutes (for each match, and a list (for each player) of\n",
    "    lists of [\"goals\",\"assists\",\"neither\"] (for each match)\n",
    "    \"\"\"\n",
    "    df[\"neither\"] = df[\"team_goals\"] - df[\"goals_scored\"] - df[\"assists\"]\n",
    "#     df.loc[(df[\"neither\"] < 0), [\"neither\", \"team_goals\", \"goals_scored\", \"assists\"]] = [\n",
    "#         0.0,\n",
    "#         0.0,\n",
    "#         0.0,\n",
    "#         0.0,\n",
    "#     ]\n",
    "    alpha = get_empirical_bayes_estimates(df)\n",
    "    print(alpha)\n",
    "    \n",
    "    y = df.sort_values(\"player_id\")[[\"goals_scored\", \"assists\", \"neither\"]].values.reshape((df[\"player_id\"].nunique(), \n",
    "                                                                                            df.groupby(\"player_id\").count().iloc[0][0],\n",
    "                                                                                            3))\n",
    "\n",
    "    minutes = df.sort_values(\"player_id\")[\"minutes\"].values.reshape((df[\"player_id\"].nunique(),-1))\n",
    "\n",
    "    nplayer = df[\"player_id\"].nunique()\n",
    "    nmatch = df.groupby(\"player_id\").count().iloc[0][0]\n",
    "    player_ids = np.sort(df[\"player_id\"].unique())\n",
    "    return dict(\n",
    "        player_id=player_ids,\n",
    "        nplayer=nplayer,\n",
    "        nmatch=nmatch,\n",
    "        minutes=minutes.astype(\"int64\"),\n",
    "        y=y.astype(\"int64\"),\n",
    "        alpha=alpha,\n",
    "    )"
   ]
  },
  {
   "cell_type": "code",
   "execution_count": 15,
   "metadata": {},
   "outputs": [],
   "source": [
    "def fit_player_data(data, prefix='FWD'):\n",
    "    \"\"\"\n",
    "    fit the data for a particular position (FWD, MID, DEF)\n",
    "    \"\"\"\n",
    "    model = PlayerModel()\n",
    "    data = process_player_data(data[data['element_type'] == prefix])\n",
    "    print(\"Fitting player model for\", prefix, \"...\")\n",
    "    fitted_model = model.fit(data)\n",
    "    df = pd.DataFrame(fitted_model.get_probs())\n",
    "\n",
    "    df[\"pos\"] = prefix\n",
    "    df = (\n",
    "        df.rename(columns={\"index\": \"player_id\"})\n",
    "        .sort_values(\"player_id\")\n",
    "        .set_index(\"player_id\")\n",
    "    )\n",
    "    return df.reset_index()\n",
    "\n",
    "\n",
    "# def fit_player_data(model, df, prefix='FWD'):\n",
    "#     \"\"\"\n",
    "#     fit the data for a particular position (FWD, MID, DEF)\n",
    "#     \"\"\"\n",
    "#     data, names = process_player_data(df[df['element_type'] == prefix])\n",
    "#     print(\"Fitting player model...\")\n",
    "#     fit = model.optimizing(data)\n",
    "#     df = (\n",
    "#         pd.DataFrame(fit[\"theta\"], columns=[\"pr_score\", \"pr_assist\", \"pr_cleansheet\", \"pr_neither\"])\n",
    "#         .set_index(names)\n",
    "#         .reset_index()\n",
    "#     )\n",
    "#     df[\"pos\"] = prefix\n",
    "#     df = (\n",
    "#         df.rename(columns={\"index\": \"player_id\"})\n",
    "#         .sort_values(\"player_id\")\n",
    "#         .set_index(\"player_id\")\n",
    "#     )\n",
    "#     return df.reset_index(), fit, data"
   ]
  },
  {
   "cell_type": "code",
   "execution_count": 16,
   "metadata": {
    "scrolled": true
   },
   "outputs": [],
   "source": [
    "#model = pystan.StanModel(file='model.stan')"
   ]
  },
  {
   "cell_type": "code",
   "execution_count": 18,
   "metadata": {
    "scrolled": true
   },
   "outputs": [
    {
     "name": "stderr",
     "output_type": "stream",
     "text": [
      "<ipython-input-11-dc6b1987652a>:7: SettingWithCopyWarning: \n",
      "A value is trying to be set on a copy of a slice from a DataFrame.\n",
      "Try using .loc[row_indexer,col_indexer] = value instead\n",
      "\n",
      "See the caveats in the documentation: https://pandas.pydata.org/pandas-docs/stable/user_guide/indexing.html#returning-a-view-versus-a-copy\n",
      "  df[\"neither\"] = df[\"team_goals\"] - df[\"goals_scored\"] - df[\"assists\"]\n",
      "\r",
      "  0%|          | 0/2500 [00:00<?, ?it/s]"
     ]
    },
    {
     "name": "stdout",
     "output_type": "stream",
     "text": [
      "[11.78484764  6.56325361 19.65189875]\n",
      "(92, 38)\n",
      "Fitting player model for FWD ...\n"
     ]
    },
    {
     "name": "stderr",
     "output_type": "stream",
     "text": [
      "sample: 100%|██████████| 2500/2500 [00:05<00:00, 429.53it/s, 15 steps of size 3.81e-01. acc. prob=0.86]\n",
      "<ipython-input-11-dc6b1987652a>:7: SettingWithCopyWarning: \n",
      "A value is trying to be set on a copy of a slice from a DataFrame.\n",
      "Try using .loc[row_indexer,col_indexer] = value instead\n",
      "\n",
      "See the caveats in the documentation: https://pandas.pydata.org/pandas-docs/stable/user_guide/indexing.html#returning-a-view-versus-a-copy\n",
      "  df[\"neither\"] = df[\"team_goals\"] - df[\"goals_scored\"] - df[\"assists\"]\n"
     ]
    },
    {
     "name": "stdout",
     "output_type": "stream",
     "text": [
      "[ 4.75586104  4.78314131 28.46099765]\n",
      "(295, 38)\n",
      "Fitting player model for MID ...\n"
     ]
    },
    {
     "name": "stderr",
     "output_type": "stream",
     "text": [
      "sample: 100%|██████████| 2500/2500 [00:12<00:00, 199.57it/s, 15 steps of size 3.13e-01. acc. prob=0.82]\n",
      "<ipython-input-11-dc6b1987652a>:7: SettingWithCopyWarning: \n",
      "A value is trying to be set on a copy of a slice from a DataFrame.\n",
      "Try using .loc[row_indexer,col_indexer] = value instead\n",
      "\n",
      "See the caveats in the documentation: https://pandas.pydata.org/pandas-docs/stable/user_guide/indexing.html#returning-a-view-versus-a-copy\n",
      "  df[\"neither\"] = df[\"team_goals\"] - df[\"goals_scored\"] - df[\"assists\"]\n"
     ]
    },
    {
     "name": "stdout",
     "output_type": "stream",
     "text": [
      "[ 1.34095016  1.91843964 34.7406102 ]\n",
      "(246, 38)\n",
      "Fitting player model for DEF ...\n"
     ]
    },
    {
     "name": "stderr",
     "output_type": "stream",
     "text": [
      "sample: 100%|██████████| 2500/2500 [00:09<00:00, 253.88it/s, 15 steps of size 2.51e-01. acc. prob=0.84]\n"
     ]
    }
   ],
   "source": [
    "fwd_data = fit_player_data(data, prefix='FWD')\n",
    "mid_data = fit_player_data(data, prefix='MID')\n",
    "def_data = fit_player_data(data, prefix='DEF')"
   ]
  },
  {
   "cell_type": "code",
   "execution_count": null,
   "metadata": {},
   "outputs": [],
   "source": [
    "fwd_data, fit, new_data = fit_player_data(model, data, prefix='FWD')\n",
    "mid_data, fit, new_data = fit_player_data(model, data, prefix='MID')\n",
    "def_data, fit, new_data = fit_player_data(model, data, prefix='DEF')"
   ]
  },
  {
   "cell_type": "code",
   "execution_count": 21,
   "metadata": {},
   "outputs": [
    {
     "data": {
      "image/png": "[encoded data removed]",
      "text/plain": [
       "<Figure size 1080x504 with 1 Axes>"
      ]
     },
     "metadata": {
      "needs_background": "light"
     },
     "output_type": "display_data"
    }
   ],
   "source": [
    "fig, ax = plt.subplots(figsize=(15,7))\n",
    "\n",
    "ax.scatter(x=fwd_data['prob_score'], y=fwd_data['prob_assist'], label='FWD')\n",
    "ax.scatter(x=mid_data['prob_score'], y=mid_data['prob_assist'], label='MID')\n",
    "ax.scatter(x=def_data['prob_score'], y=def_data['prob_assist'], label='DEF')\n",
    "#ax.scatter(x=gkp_data['pr_score'], y=gkp_data['pr_assist'], label='GKP')\n",
    "\n",
    "plt.legend()\n",
    "plt.show()"
   ]
  },
  {
   "cell_type": "code",
   "execution_count": 26,
   "metadata": {},
   "outputs": [],
   "source": [
    "fwd_data['player_name'] = fwd_data['player_id'].map(id_player_dict)\n",
    "mid_data['player_name'] = mid_data['player_id'].map(id_player_dict)"
   ]
  },
  {
   "cell_type": "code",
   "execution_count": 27,
   "metadata": {},
   "outputs": [
    {
     "data": {
      "text/html": [
       "<div>\n",
       "<style scoped>\n",
       "    .dataframe tbody tr th:only-of-type {\n",
       "        vertical-align: middle;\n",
       "    }\n",
       "\n",
       "    .dataframe tbody tr th {\n",
       "        vertical-align: top;\n",
       "    }\n",
       "\n",
       "    .dataframe thead th {\n",
       "        text-align: right;\n",
       "    }\n",
       "</style>\n",
       "<table border=\"1\" class=\"dataframe\">\n",
       "  <thead>\n",
       "    <tr style=\"text-align: right;\">\n",
       "      <th></th>\n",
       "      <th>player_id</th>\n",
       "      <th>prob_score</th>\n",
       "      <th>prob_assist</th>\n",
       "      <th>prob_neither</th>\n",
       "      <th>pos</th>\n",
       "      <th>player_name</th>\n",
       "    </tr>\n",
       "  </thead>\n",
       "  <tbody>\n",
       "    <tr>\n",
       "      <th>222</th>\n",
       "      <td>543</td>\n",
       "      <td>0.298568</td>\n",
       "      <td>0.148688</td>\n",
       "      <td>0.552744</td>\n",
       "      <td>MID</td>\n",
       "      <td>Gareth_Bale_543</td>\n",
       "    </tr>\n",
       "    <tr>\n",
       "      <th>106</th>\n",
       "      <td>254</td>\n",
       "      <td>0.277331</td>\n",
       "      <td>0.111281</td>\n",
       "      <td>0.611387</td>\n",
       "      <td>MID</td>\n",
       "      <td>Mohamed_Salah_254</td>\n",
       "    </tr>\n",
       "    <tr>\n",
       "      <th>18</th>\n",
       "      <td>45</td>\n",
       "      <td>0.275497</td>\n",
       "      <td>0.089299</td>\n",
       "      <td>0.635204</td>\n",
       "      <td>MID</td>\n",
       "      <td>Anwar_El Ghazi_45</td>\n",
       "    </tr>\n",
       "    <tr>\n",
       "      <th>191</th>\n",
       "      <td>468</td>\n",
       "      <td>0.261006</td>\n",
       "      <td>0.089539</td>\n",
       "      <td>0.649455</td>\n",
       "      <td>MID</td>\n",
       "      <td>Diogo_Jota_468</td>\n",
       "    </tr>\n",
       "    <tr>\n",
       "      <th>3</th>\n",
       "      <td>18</td>\n",
       "      <td>0.250189</td>\n",
       "      <td>0.131944</td>\n",
       "      <td>0.617867</td>\n",
       "      <td>MID</td>\n",
       "      <td>Nicolas_Pépé_18</td>\n",
       "    </tr>\n",
       "    <tr>\n",
       "      <th>126</th>\n",
       "      <td>302</td>\n",
       "      <td>0.240127</td>\n",
       "      <td>0.199142</td>\n",
       "      <td>0.560731</td>\n",
       "      <td>MID</td>\n",
       "      <td>Bruno Miguel_Borges Fernandes_302</td>\n",
       "    </tr>\n",
       "    <tr>\n",
       "      <th>199</th>\n",
       "      <td>481</td>\n",
       "      <td>0.234596</td>\n",
       "      <td>0.174444</td>\n",
       "      <td>0.590960</td>\n",
       "      <td>MID</td>\n",
       "      <td>Matheus_Pereira_481</td>\n",
       "    </tr>\n",
       "    <tr>\n",
       "      <th>157</th>\n",
       "      <td>390</td>\n",
       "      <td>0.232739</td>\n",
       "      <td>0.169068</td>\n",
       "      <td>0.598193</td>\n",
       "      <td>MID</td>\n",
       "      <td>Heung-Min_Son_390</td>\n",
       "    </tr>\n",
       "    <tr>\n",
       "      <th>5</th>\n",
       "      <td>20</td>\n",
       "      <td>0.231872</td>\n",
       "      <td>0.087217</td>\n",
       "      <td>0.680911</td>\n",
       "      <td>MID</td>\n",
       "      <td>Joseph_Willock_20</td>\n",
       "    </tr>\n",
       "    <tr>\n",
       "      <th>120</th>\n",
       "      <td>287</td>\n",
       "      <td>0.221499</td>\n",
       "      <td>0.164868</td>\n",
       "      <td>0.613633</td>\n",
       "      <td>MID</td>\n",
       "      <td>Ferran_Torres_287</td>\n",
       "    </tr>\n",
       "  </tbody>\n",
       "</table>\n",
       "</div>"
      ],
      "text/plain": [
       "     player_id  prob_score  prob_assist  prob_neither  pos  \\\n",
       "222        543    0.298568     0.148688      0.552744  MID   \n",
       "106        254    0.277331     0.111281      0.611387  MID   \n",
       "18          45    0.275497     0.089299      0.635204  MID   \n",
       "191        468    0.261006     0.089539      0.649455  MID   \n",
       "3           18    0.250189     0.131944      0.617867  MID   \n",
       "126        302    0.240127     0.199142      0.560731  MID   \n",
       "199        481    0.234596     0.174444      0.590960  MID   \n",
       "157        390    0.232739     0.169068      0.598193  MID   \n",
       "5           20    0.231872     0.087217      0.680911  MID   \n",
       "120        287    0.221499     0.164868      0.613633  MID   \n",
       "\n",
       "                           player_name  \n",
       "222                    Gareth_Bale_543  \n",
       "106                  Mohamed_Salah_254  \n",
       "18                   Anwar_El Ghazi_45  \n",
       "191                     Diogo_Jota_468  \n",
       "3                      Nicolas_Pépé_18  \n",
       "126  Bruno Miguel_Borges Fernandes_302  \n",
       "199                Matheus_Pereira_481  \n",
       "157                  Heung-Min_Son_390  \n",
       "5                    Joseph_Willock_20  \n",
       "120                  Ferran_Torres_287  "
      ]
     },
     "execution_count": 27,
     "metadata": {},
     "output_type": "execute_result"
    }
   ],
   "source": [
    "mid_data.sort_values(by='prob_score', ascending=False).head(10)"
   ]
  },
  {
   "cell_type": "code",
   "execution_count": null,
   "metadata": {},
   "outputs": [],
   "source": [
    "player_names = pd.read_csv('./data/data/2020-21/players_raw.csv', usecols=['id', 'web_name'])\n",
    "this_season_teams = pd.read_csv('./data/data/2021-22/players_raw.csv', usecols=['web_name', 'team'])"
   ]
  },
  {
   "cell_type": "code",
   "execution_count": null,
   "metadata": {},
   "outputs": [],
   "source": [
    "fitted_data = pd.merge(fitted_data, player_names, left_on='player_id', right_on='id')"
   ]
  },
  {
   "cell_type": "code",
   "execution_count": null,
   "metadata": {
    "scrolled": false
   },
   "outputs": [],
   "source": [
    "fwd_data.sort_values('pr_assist', ascending=False).head()"
   ]
  },
  {
   "cell_type": "code",
   "execution_count": null,
   "metadata": {},
   "outputs": [],
   "source": [
    "#remember to use the element table to get the most recent teams.."
   ]
  },
  {
   "cell_type": "code",
   "execution_count": null,
   "metadata": {},
   "outputs": [],
   "source": [
    "#get player ids split by each position: defender, midfielder, forward"
   ]
  }
 ],
 "metadata": {
  "kernelspec": {
   "display_name": "Python 3",
   "language": "python",
   "name": "python3"
  },
  "language_info": {
   "codemirror_mode": {
    "name": "ipython",
    "version": 3
   },
   "file_extension": ".py",
   "mimetype": "text/x-python",
   "name": "python",
   "nbconvert_exporter": "python",
   "pygments_lexer": "ipython3",
   "version": "3.8.3"
  }
 },
 "nbformat": 4,
 "nbformat_minor": 4
}
