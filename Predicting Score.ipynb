{
 "cells": [
  {
   "cell_type": "code",
   "execution_count": 1,
   "metadata": {},
   "outputs": [],
   "source": [
    "import pandas as pd\n",
    "import numpy as np\n",
    "import matplotlib.pyplot as plt\n",
    "import sqlite3\n",
    "import statsmodels.api as sm\n",
    "import statsmodels.formula.api as smf\n",
    "from scipy.stats import poisson,skellam\n",
    "from scipy.optimize import minimize\n",
    "import pystan"
   ]
  },
  {
   "cell_type": "markdown",
   "metadata": {},
   "source": [
    "### Key to results data:\n",
    "\n",
    "- Div = League Division\n",
    "- Date = Match Date (dd/mm/yy)\n",
    "- Time = Time of match kick off\n",
    "- HomeTeam = Home Team\n",
    "- AwayTeam = Away Team\n",
    "- FTHG and HG = Full Time Home Team Goals\n",
    "- FTAG and AG = Full Time Away Team Goals\n",
    "- FTR and Res = Full Time Result (H=Home Win, D=Draw, A=Away Win)\n",
    "- HTHG = Half Time Home Team Goals\n",
    "- HTAG = Half Time Away Team Goals\n",
    "- HTR = Half Time Result (H=Home Win, D=Draw, A=Away Win)\n",
    "\n",
    "### Match Statistics (where available)\n",
    "- Attendance = Crowd Attendance\n",
    "- Referee = Match Referee\n",
    "- HS = Home Team Shots\n",
    "- AS = Away Team Shots\n",
    "- HST = Home Team Shots on Target\n",
    "- AST = Away Team Shots on Target\n",
    "- HHW = Home Team Hit Woodwork\n",
    "- AHW = Away Team Hit Woodwork\n",
    "- HC = Home Team Corners\n",
    "- AC = Away Team Corners\n",
    "- HF = Home Team Fouls Committed\n",
    "- AF = Away Team Fouls Committed\n",
    "- HFKC = Home Team Free Kicks Conceded\n",
    "- AFKC = Away Team Free Kicks Conceded\n",
    "- HO = Home Team Offsides\n",
    "- AO = Away Team Offsides\n",
    "- HY = Home Team Yellow Cards\n",
    "- AY = Away Team Yellow Cards\n",
    "- HR = Home Team Red Cards\n",
    "- AR = Away Team Red Cards\n",
    "- HBP = Home Team Bookings Points (10 = yellow, 25 = red)\n",
    "- ABP = Away Team Bookings Points (10 = yellow, 25 = red)"
   ]
  },
  {
   "cell_type": "code",
   "execution_count": 2,
   "metadata": {},
   "outputs": [],
   "source": [
    "df1 = pd.read_csv('./data/2020_21.csv', usecols=[0, 1] + list(range(3, 24)))\n",
    "df2 = pd.read_csv('./data/2019_20.csv', usecols=[0, 1] + list(range(3, 24)))\n",
    "df3 = pd.read_csv('./data/2018_19.csv', usecols=list(range(23)))\n",
    "df4 = pd.read_csv('./data/2017_18.csv', usecols=list(range(23)))\n",
    "\n",
    "    \n",
    "li = [df1, df2, df3, df4]\n",
    "    \n",
    "data = pd.concat(li, axis=0, ignore_index=True)"
   ]
  },
  {
   "cell_type": "code",
   "execution_count": 3,
   "metadata": {},
   "outputs": [],
   "source": [
    "import datetime"
   ]
  },
  {
   "cell_type": "code",
   "execution_count": 4,
   "metadata": {},
   "outputs": [],
   "source": [
    "data['Date'] = pd.to_datetime(data['Date'])\n",
    "data['time_diff'] = (pd.Timestamp(datetime.datetime.today()) - data['Date']).dt.days"
   ]
  },
  {
   "cell_type": "code",
   "execution_count": 5,
   "metadata": {
    "scrolled": false
   },
   "outputs": [
    {
     "data": {
      "text/html": [
       "<div>\n",
       "<style scoped>\n",
       "    .dataframe tbody tr th:only-of-type {\n",
       "        vertical-align: middle;\n",
       "    }\n",
       "\n",
       "    .dataframe tbody tr th {\n",
       "        vertical-align: top;\n",
       "    }\n",
       "\n",
       "    .dataframe thead th {\n",
       "        text-align: right;\n",
       "    }\n",
       "</style>\n",
       "<table border=\"1\" class=\"dataframe\">\n",
       "  <thead>\n",
       "    <tr style=\"text-align: right;\">\n",
       "      <th></th>\n",
       "      <th>Div</th>\n",
       "      <th>Date</th>\n",
       "      <th>HomeTeam</th>\n",
       "      <th>AwayTeam</th>\n",
       "      <th>FTHG</th>\n",
       "      <th>FTAG</th>\n",
       "      <th>FTR</th>\n",
       "      <th>HTHG</th>\n",
       "      <th>HTAG</th>\n",
       "      <th>HTR</th>\n",
       "      <th>...</th>\n",
       "      <th>AST</th>\n",
       "      <th>HF</th>\n",
       "      <th>AF</th>\n",
       "      <th>HC</th>\n",
       "      <th>AC</th>\n",
       "      <th>HY</th>\n",
       "      <th>AY</th>\n",
       "      <th>HR</th>\n",
       "      <th>AR</th>\n",
       "      <th>time_diff</th>\n",
       "    </tr>\n",
       "  </thead>\n",
       "  <tbody>\n",
       "    <tr>\n",
       "      <th>0</th>\n",
       "      <td>E0</td>\n",
       "      <td>2020-12-09</td>\n",
       "      <td>Fulham</td>\n",
       "      <td>Arsenal</td>\n",
       "      <td>0</td>\n",
       "      <td>3</td>\n",
       "      <td>A</td>\n",
       "      <td>0</td>\n",
       "      <td>1</td>\n",
       "      <td>A</td>\n",
       "      <td>...</td>\n",
       "      <td>6</td>\n",
       "      <td>12</td>\n",
       "      <td>12</td>\n",
       "      <td>2</td>\n",
       "      <td>3</td>\n",
       "      <td>2</td>\n",
       "      <td>2</td>\n",
       "      <td>0</td>\n",
       "      <td>0</td>\n",
       "      <td>245</td>\n",
       "    </tr>\n",
       "    <tr>\n",
       "      <th>1</th>\n",
       "      <td>E0</td>\n",
       "      <td>2020-12-09</td>\n",
       "      <td>Crystal Palace</td>\n",
       "      <td>Southampton</td>\n",
       "      <td>1</td>\n",
       "      <td>0</td>\n",
       "      <td>H</td>\n",
       "      <td>1</td>\n",
       "      <td>0</td>\n",
       "      <td>H</td>\n",
       "      <td>...</td>\n",
       "      <td>5</td>\n",
       "      <td>14</td>\n",
       "      <td>11</td>\n",
       "      <td>7</td>\n",
       "      <td>3</td>\n",
       "      <td>2</td>\n",
       "      <td>1</td>\n",
       "      <td>0</td>\n",
       "      <td>0</td>\n",
       "      <td>245</td>\n",
       "    </tr>\n",
       "    <tr>\n",
       "      <th>2</th>\n",
       "      <td>E0</td>\n",
       "      <td>2020-12-09</td>\n",
       "      <td>Liverpool</td>\n",
       "      <td>Leeds</td>\n",
       "      <td>4</td>\n",
       "      <td>3</td>\n",
       "      <td>H</td>\n",
       "      <td>3</td>\n",
       "      <td>2</td>\n",
       "      <td>H</td>\n",
       "      <td>...</td>\n",
       "      <td>3</td>\n",
       "      <td>9</td>\n",
       "      <td>6</td>\n",
       "      <td>9</td>\n",
       "      <td>0</td>\n",
       "      <td>1</td>\n",
       "      <td>0</td>\n",
       "      <td>0</td>\n",
       "      <td>0</td>\n",
       "      <td>245</td>\n",
       "    </tr>\n",
       "    <tr>\n",
       "      <th>3</th>\n",
       "      <td>E0</td>\n",
       "      <td>2020-12-09</td>\n",
       "      <td>West Ham</td>\n",
       "      <td>Newcastle</td>\n",
       "      <td>0</td>\n",
       "      <td>2</td>\n",
       "      <td>A</td>\n",
       "      <td>0</td>\n",
       "      <td>0</td>\n",
       "      <td>D</td>\n",
       "      <td>...</td>\n",
       "      <td>2</td>\n",
       "      <td>13</td>\n",
       "      <td>7</td>\n",
       "      <td>8</td>\n",
       "      <td>7</td>\n",
       "      <td>2</td>\n",
       "      <td>2</td>\n",
       "      <td>0</td>\n",
       "      <td>0</td>\n",
       "      <td>245</td>\n",
       "    </tr>\n",
       "    <tr>\n",
       "      <th>4</th>\n",
       "      <td>E0</td>\n",
       "      <td>2020-09-13</td>\n",
       "      <td>West Brom</td>\n",
       "      <td>Leicester</td>\n",
       "      <td>0</td>\n",
       "      <td>3</td>\n",
       "      <td>A</td>\n",
       "      <td>0</td>\n",
       "      <td>0</td>\n",
       "      <td>D</td>\n",
       "      <td>...</td>\n",
       "      <td>7</td>\n",
       "      <td>12</td>\n",
       "      <td>9</td>\n",
       "      <td>2</td>\n",
       "      <td>5</td>\n",
       "      <td>1</td>\n",
       "      <td>1</td>\n",
       "      <td>0</td>\n",
       "      <td>0</td>\n",
       "      <td>332</td>\n",
       "    </tr>\n",
       "  </tbody>\n",
       "</table>\n",
       "<p>5 rows × 24 columns</p>\n",
       "</div>"
      ],
      "text/plain": [
       "  Div       Date        HomeTeam     AwayTeam  FTHG  FTAG FTR  HTHG  HTAG HTR  \\\n",
       "0  E0 2020-12-09          Fulham      Arsenal     0     3   A     0     1   A   \n",
       "1  E0 2020-12-09  Crystal Palace  Southampton     1     0   H     1     0   H   \n",
       "2  E0 2020-12-09       Liverpool        Leeds     4     3   H     3     2   H   \n",
       "3  E0 2020-12-09        West Ham    Newcastle     0     2   A     0     0   D   \n",
       "4  E0 2020-09-13       West Brom    Leicester     0     3   A     0     0   D   \n",
       "\n",
       "   ... AST  HF  AF  HC  AC  HY  AY  HR  AR  time_diff  \n",
       "0  ...   6  12  12   2   3   2   2   0   0        245  \n",
       "1  ...   5  14  11   7   3   2   1   0   0        245  \n",
       "2  ...   3   9   6   9   0   1   0   0   0        245  \n",
       "3  ...   2  13   7   8   7   2   2   0   0        245  \n",
       "4  ...   7  12   9   2   5   1   1   0   0        332  \n",
       "\n",
       "[5 rows x 24 columns]"
      ]
     },
     "execution_count": 5,
     "metadata": {},
     "output_type": "execute_result"
    }
   ],
   "source": [
    "data.head()"
   ]
  },
  {
   "cell_type": "markdown",
   "metadata": {},
   "source": [
    "## Building a model"
   ]
  },
  {
   "cell_type": "code",
   "execution_count": 6,
   "metadata": {},
   "outputs": [],
   "source": [
    "X = data[['HomeTeam', 'AwayTeam', 'FTHG', 'FTAG']]"
   ]
  },
  {
   "cell_type": "code",
   "execution_count": 7,
   "metadata": {},
   "outputs": [
    {
     "data": {
      "text/html": [
       "<div>\n",
       "<style scoped>\n",
       "    .dataframe tbody tr th:only-of-type {\n",
       "        vertical-align: middle;\n",
       "    }\n",
       "\n",
       "    .dataframe tbody tr th {\n",
       "        vertical-align: top;\n",
       "    }\n",
       "\n",
       "    .dataframe thead th {\n",
       "        text-align: right;\n",
       "    }\n",
       "</style>\n",
       "<table border=\"1\" class=\"dataframe\">\n",
       "  <thead>\n",
       "    <tr style=\"text-align: right;\">\n",
       "      <th></th>\n",
       "      <th>HomeTeam</th>\n",
       "      <th>AwayTeam</th>\n",
       "      <th>FTAG</th>\n",
       "      <th>home</th>\n",
       "    </tr>\n",
       "  </thead>\n",
       "  <tbody>\n",
       "    <tr>\n",
       "      <th>0</th>\n",
       "      <td>Fulham</td>\n",
       "      <td>Arsenal</td>\n",
       "      <td>3</td>\n",
       "      <td>0</td>\n",
       "    </tr>\n",
       "    <tr>\n",
       "      <th>1</th>\n",
       "      <td>Crystal Palace</td>\n",
       "      <td>Southampton</td>\n",
       "      <td>0</td>\n",
       "      <td>0</td>\n",
       "    </tr>\n",
       "    <tr>\n",
       "      <th>2</th>\n",
       "      <td>Liverpool</td>\n",
       "      <td>Leeds</td>\n",
       "      <td>3</td>\n",
       "      <td>0</td>\n",
       "    </tr>\n",
       "    <tr>\n",
       "      <th>3</th>\n",
       "      <td>West Ham</td>\n",
       "      <td>Newcastle</td>\n",
       "      <td>2</td>\n",
       "      <td>0</td>\n",
       "    </tr>\n",
       "    <tr>\n",
       "      <th>4</th>\n",
       "      <td>West Brom</td>\n",
       "      <td>Leicester</td>\n",
       "      <td>3</td>\n",
       "      <td>0</td>\n",
       "    </tr>\n",
       "    <tr>\n",
       "      <th>...</th>\n",
       "      <td>...</td>\n",
       "      <td>...</td>\n",
       "      <td>...</td>\n",
       "      <td>...</td>\n",
       "    </tr>\n",
       "    <tr>\n",
       "      <th>1515</th>\n",
       "      <td>Newcastle</td>\n",
       "      <td>Chelsea</td>\n",
       "      <td>0</td>\n",
       "      <td>0</td>\n",
       "    </tr>\n",
       "    <tr>\n",
       "      <th>1516</th>\n",
       "      <td>Southampton</td>\n",
       "      <td>Man City</td>\n",
       "      <td>1</td>\n",
       "      <td>0</td>\n",
       "    </tr>\n",
       "    <tr>\n",
       "      <th>1517</th>\n",
       "      <td>Swansea</td>\n",
       "      <td>Stoke</td>\n",
       "      <td>2</td>\n",
       "      <td>0</td>\n",
       "    </tr>\n",
       "    <tr>\n",
       "      <th>1518</th>\n",
       "      <td>Tottenham</td>\n",
       "      <td>Leicester</td>\n",
       "      <td>4</td>\n",
       "      <td>0</td>\n",
       "    </tr>\n",
       "    <tr>\n",
       "      <th>1519</th>\n",
       "      <td>West Ham</td>\n",
       "      <td>Everton</td>\n",
       "      <td>1</td>\n",
       "      <td>0</td>\n",
       "    </tr>\n",
       "  </tbody>\n",
       "</table>\n",
       "<p>1520 rows × 4 columns</p>\n",
       "</div>"
      ],
      "text/plain": [
       "            HomeTeam     AwayTeam  FTAG  home\n",
       "0             Fulham      Arsenal     3     0\n",
       "1     Crystal Palace  Southampton     0     0\n",
       "2          Liverpool        Leeds     3     0\n",
       "3           West Ham    Newcastle     2     0\n",
       "4          West Brom    Leicester     3     0\n",
       "...              ...          ...   ...   ...\n",
       "1515       Newcastle      Chelsea     0     0\n",
       "1516     Southampton     Man City     1     0\n",
       "1517         Swansea        Stoke     2     0\n",
       "1518       Tottenham    Leicester     4     0\n",
       "1519        West Ham      Everton     1     0\n",
       "\n",
       "[1520 rows x 4 columns]"
      ]
     },
     "execution_count": 7,
     "metadata": {},
     "output_type": "execute_result"
    }
   ],
   "source": [
    "X.iloc[:,[0,1,3]].assign(home=0)"
   ]
  },
  {
   "cell_type": "code",
   "execution_count": 8,
   "metadata": {},
   "outputs": [],
   "source": [
    "#getting an appropriate dataset ready for training...\n",
    "X = pd.concat([X.iloc[:,[0,1,2]].assign(home=1).rename(columns={'HomeTeam':'team',\n",
    "                                                                'AwayTeam':'opponent',\n",
    "                                                                'FTHG':'goals'}),\n",
    "               X.iloc[:,[0,1,3]].assign(home=0).rename(columns={'HomeTeam':'team',\n",
    "                                                                'AwayTeam':'opponent',\n",
    "                                                                'FTAG':'goals'})])"
   ]
  },
  {
   "cell_type": "code",
   "execution_count": 9,
   "metadata": {},
   "outputs": [
    {
     "name": "stderr",
     "output_type": "stream",
     "text": [
      "INFO:numexpr.utils:NumExpr defaulting to 8 threads.\n"
     ]
    }
   ],
   "source": [
    "model = smf.glm(formula='goals ~ home + team + opponent', \n",
    "                data=X, family = sm.families.Poisson()).fit()"
   ]
  },
  {
   "cell_type": "code",
   "execution_count": 10,
   "metadata": {
    "scrolled": true
   },
   "outputs": [
    {
     "data": {
      "text/html": [
       "<table class=\"simpletable\">\n",
       "<caption>Generalized Linear Model Regression Results</caption>\n",
       "<tr>\n",
       "  <th>Dep. Variable:</th>         <td>goals</td>      <th>  No. Observations:  </th>  <td>  3040</td> \n",
       "</tr>\n",
       "<tr>\n",
       "  <th>Model:</th>                  <td>GLM</td>       <th>  Df Residuals:      </th>  <td>  2986</td> \n",
       "</tr>\n",
       "<tr>\n",
       "  <th>Model Family:</th>         <td>Poisson</td>     <th>  Df Model:          </th>  <td>    53</td> \n",
       "</tr>\n",
       "<tr>\n",
       "  <th>Link Function:</th>          <td>log</td>       <th>  Scale:             </th> <td>  1.0000</td>\n",
       "</tr>\n",
       "<tr>\n",
       "  <th>Method:</th>                <td>IRLS</td>       <th>  Log-Likelihood:    </th> <td> -4585.6</td>\n",
       "</tr>\n",
       "<tr>\n",
       "  <th>Date:</th>            <td>Wed, 11 Aug 2021</td> <th>  Deviance:          </th> <td>  3831.8</td>\n",
       "</tr>\n",
       "<tr>\n",
       "  <th>Time:</th>                <td>13:04:42</td>     <th>  Pearson chi2:      </th> <td>3.37e+03</td>\n",
       "</tr>\n",
       "<tr>\n",
       "  <th>No. Iterations:</th>          <td>5</td>        <th>                     </th>     <td> </td>   \n",
       "</tr>\n",
       "<tr>\n",
       "  <th>Covariance Type:</th>     <td>nonrobust</td>    <th>                     </th>     <td> </td>   \n",
       "</tr>\n",
       "</table>\n",
       "<table class=\"simpletable\">\n",
       "<tr>\n",
       "                <td></td>                  <th>coef</th>     <th>std err</th>      <th>z</th>      <th>P>|z|</th>  <th>[0.025</th>    <th>0.975]</th>  \n",
       "</tr>\n",
       "<tr>\n",
       "  <th>Intercept</th>                    <td>    0.3666</td> <td>    0.098</td> <td>    3.753</td> <td> 0.000</td> <td>    0.175</td> <td>    0.558</td>\n",
       "</tr>\n",
       "<tr>\n",
       "  <th>team[T.Aston Villa]</th>          <td>   -0.0919</td> <td>    0.116</td> <td>   -0.790</td> <td> 0.430</td> <td>   -0.320</td> <td>    0.136</td>\n",
       "</tr>\n",
       "<tr>\n",
       "  <th>team[T.Bournemouth]</th>          <td>   -0.0810</td> <td>    0.102</td> <td>   -0.794</td> <td> 0.427</td> <td>   -0.281</td> <td>    0.119</td>\n",
       "</tr>\n",
       "<tr>\n",
       "  <th>team[T.Brighton]</th>             <td>   -0.2464</td> <td>    0.098</td> <td>   -2.516</td> <td> 0.012</td> <td>   -0.438</td> <td>   -0.054</td>\n",
       "</tr>\n",
       "<tr>\n",
       "  <th>team[T.Burnley]</th>              <td>   -0.2973</td> <td>    0.099</td> <td>   -2.988</td> <td> 0.003</td> <td>   -0.492</td> <td>   -0.102</td>\n",
       "</tr>\n",
       "<tr>\n",
       "  <th>team[T.Cardiff]</th>              <td>   -0.0134</td> <td>    0.146</td> <td>   -0.092</td> <td> 0.927</td> <td>   -0.299</td> <td>    0.272</td>\n",
       "</tr>\n",
       "<tr>\n",
       "  <th>team[T.Chelsea]</th>              <td>   -0.2069</td> <td>    0.097</td> <td>   -2.127</td> <td> 0.033</td> <td>   -0.397</td> <td>   -0.016</td>\n",
       "</tr>\n",
       "<tr>\n",
       "  <th>team[T.Crystal Palace]</th>       <td>   -0.2492</td> <td>    0.098</td> <td>   -2.536</td> <td> 0.011</td> <td>   -0.442</td> <td>   -0.057</td>\n",
       "</tr>\n",
       "<tr>\n",
       "  <th>team[T.Everton]</th>              <td>   -0.1831</td> <td>    0.096</td> <td>   -1.899</td> <td> 0.058</td> <td>   -0.372</td> <td>    0.006</td>\n",
       "</tr>\n",
       "<tr>\n",
       "  <th>team[T.Fulham]</th>               <td>   -0.2249</td> <td>    0.122</td> <td>   -1.850</td> <td> 0.064</td> <td>   -0.463</td> <td>    0.013</td>\n",
       "</tr>\n",
       "<tr>\n",
       "  <th>team[T.Huddersfield]</th>         <td>   -0.3739</td> <td>    0.128</td> <td>   -2.914</td> <td> 0.004</td> <td>   -0.625</td> <td>   -0.122</td>\n",
       "</tr>\n",
       "<tr>\n",
       "  <th>team[T.Leeds]</th>                <td>   -0.1765</td> <td>    0.157</td> <td>   -1.123</td> <td> 0.261</td> <td>   -0.485</td> <td>    0.132</td>\n",
       "</tr>\n",
       "<tr>\n",
       "  <th>team[T.Leicester]</th>            <td>   -0.1296</td> <td>    0.095</td> <td>   -1.360</td> <td> 0.174</td> <td>   -0.316</td> <td>    0.057</td>\n",
       "</tr>\n",
       "<tr>\n",
       "  <th>team[T.Liverpool]</th>            <td>    0.0036</td> <td>    0.092</td> <td>    0.039</td> <td> 0.969</td> <td>   -0.177</td> <td>    0.184</td>\n",
       "</tr>\n",
       "<tr>\n",
       "  <th>team[T.Man City]</th>             <td>    0.1505</td> <td>    0.089</td> <td>    1.694</td> <td> 0.090</td> <td>   -0.024</td> <td>    0.325</td>\n",
       "</tr>\n",
       "<tr>\n",
       "  <th>team[T.Man United]</th>           <td>   -0.0399</td> <td>    0.093</td> <td>   -0.429</td> <td> 0.668</td> <td>   -0.222</td> <td>    0.142</td>\n",
       "</tr>\n",
       "<tr>\n",
       "  <th>team[T.Newcastle]</th>            <td>   -0.2419</td> <td>    0.098</td> <td>   -2.470</td> <td> 0.014</td> <td>   -0.434</td> <td>   -0.050</td>\n",
       "</tr>\n",
       "<tr>\n",
       "  <th>team[T.Norwich]</th>              <td>   -0.0568</td> <td>    0.149</td> <td>   -0.382</td> <td> 0.703</td> <td>   -0.348</td> <td>    0.235</td>\n",
       "</tr>\n",
       "<tr>\n",
       "  <th>team[T.Sheffield United]</th>     <td>   -0.4271</td> <td>    0.131</td> <td>   -3.267</td> <td> 0.001</td> <td>   -0.683</td> <td>   -0.171</td>\n",
       "</tr>\n",
       "<tr>\n",
       "  <th>team[T.Southampton]</th>          <td>   -0.1100</td> <td>    0.095</td> <td>   -1.162</td> <td> 0.245</td> <td>   -0.296</td> <td>    0.076</td>\n",
       "</tr>\n",
       "<tr>\n",
       "  <th>team[T.Stoke]</th>                <td>   -0.1757</td> <td>    0.156</td> <td>   -1.127</td> <td> 0.260</td> <td>   -0.481</td> <td>    0.130</td>\n",
       "</tr>\n",
       "<tr>\n",
       "  <th>team[T.Swansea]</th>              <td>   -0.3846</td> <td>    0.169</td> <td>   -2.270</td> <td> 0.023</td> <td>   -0.717</td> <td>   -0.053</td>\n",
       "</tr>\n",
       "<tr>\n",
       "  <th>team[T.Tottenham]</th>            <td>   -0.0991</td> <td>    0.094</td> <td>   -1.049</td> <td> 0.294</td> <td>   -0.284</td> <td>    0.086</td>\n",
       "</tr>\n",
       "<tr>\n",
       "  <th>team[T.Watford]</th>              <td>   -0.0988</td> <td>    0.102</td> <td>   -0.966</td> <td> 0.334</td> <td>   -0.299</td> <td>    0.102</td>\n",
       "</tr>\n",
       "<tr>\n",
       "  <th>team[T.West Brom]</th>            <td>   -0.1400</td> <td>    0.118</td> <td>   -1.188</td> <td> 0.235</td> <td>   -0.371</td> <td>    0.091</td>\n",
       "</tr>\n",
       "<tr>\n",
       "  <th>team[T.West Ham]</th>             <td>   -0.0459</td> <td>    0.093</td> <td>   -0.493</td> <td> 0.622</td> <td>   -0.228</td> <td>    0.137</td>\n",
       "</tr>\n",
       "<tr>\n",
       "  <th>team[T.Wolves]</th>               <td>   -0.2392</td> <td>    0.107</td> <td>   -2.246</td> <td> 0.025</td> <td>   -0.448</td> <td>   -0.030</td>\n",
       "</tr>\n",
       "<tr>\n",
       "  <th>opponent[T.Aston Villa]</th>      <td>   -0.0440</td> <td>    0.121</td> <td>   -0.363</td> <td> 0.717</td> <td>   -0.282</td> <td>    0.194</td>\n",
       "</tr>\n",
       "<tr>\n",
       "  <th>opponent[T.Bournemouth]</th>      <td>    0.0922</td> <td>    0.103</td> <td>    0.898</td> <td> 0.369</td> <td>   -0.109</td> <td>    0.293</td>\n",
       "</tr>\n",
       "<tr>\n",
       "  <th>opponent[T.Brighton]</th>         <td>   -0.1955</td> <td>    0.102</td> <td>   -1.907</td> <td> 0.056</td> <td>   -0.396</td> <td>    0.005</td>\n",
       "</tr>\n",
       "<tr>\n",
       "  <th>opponent[T.Burnley]</th>          <td>   -0.1051</td> <td>    0.100</td> <td>   -1.051</td> <td> 0.293</td> <td>   -0.301</td> <td>    0.091</td>\n",
       "</tr>\n",
       "<tr>\n",
       "  <th>opponent[T.Cardiff]</th>          <td>   -0.1831</td> <td>    0.166</td> <td>   -1.103</td> <td> 0.270</td> <td>   -0.508</td> <td>    0.142</td>\n",
       "</tr>\n",
       "<tr>\n",
       "  <th>opponent[T.Chelsea]</th>          <td>    0.0666</td> <td>    0.096</td> <td>    0.694</td> <td> 0.488</td> <td>   -0.121</td> <td>    0.255</td>\n",
       "</tr>\n",
       "<tr>\n",
       "  <th>opponent[T.Crystal Palace]</th>   <td>   -0.0277</td> <td>    0.098</td> <td>   -0.282</td> <td> 0.778</td> <td>   -0.220</td> <td>    0.165</td>\n",
       "</tr>\n",
       "<tr>\n",
       "  <th>opponent[T.Everton]</th>          <td>   -0.0639</td> <td>    0.099</td> <td>   -0.645</td> <td> 0.519</td> <td>   -0.258</td> <td>    0.130</td>\n",
       "</tr>\n",
       "<tr>\n",
       "  <th>opponent[T.Fulham]</th>           <td>   -0.0597</td> <td>    0.122</td> <td>   -0.491</td> <td> 0.624</td> <td>   -0.298</td> <td>    0.179</td>\n",
       "</tr>\n",
       "<tr>\n",
       "  <th>opponent[T.Huddersfield]</th>     <td>   -0.0479</td> <td>    0.121</td> <td>   -0.396</td> <td> 0.692</td> <td>   -0.285</td> <td>    0.189</td>\n",
       "</tr>\n",
       "<tr>\n",
       "  <th>opponent[T.Leeds]</th>            <td>    0.2423</td> <td>    0.141</td> <td>    1.723</td> <td> 0.085</td> <td>   -0.033</td> <td>    0.518</td>\n",
       "</tr>\n",
       "<tr>\n",
       "  <th>opponent[T.Leicester]</th>        <td>    0.1009</td> <td>    0.095</td> <td>    1.059</td> <td> 0.289</td> <td>   -0.086</td> <td>    0.287</td>\n",
       "</tr>\n",
       "<tr>\n",
       "  <th>opponent[T.Liverpool]</th>        <td>    0.0648</td> <td>    0.096</td> <td>    0.673</td> <td> 0.501</td> <td>   -0.124</td> <td>    0.253</td>\n",
       "</tr>\n",
       "<tr>\n",
       "  <th>opponent[T.Man City]</th>         <td>    0.0965</td> <td>    0.096</td> <td>    1.008</td> <td> 0.313</td> <td>   -0.091</td> <td>    0.284</td>\n",
       "</tr>\n",
       "<tr>\n",
       "  <th>opponent[T.Man United]</th>       <td>   -0.0216</td> <td>    0.098</td> <td>   -0.220</td> <td> 0.826</td> <td>   -0.214</td> <td>    0.171</td>\n",
       "</tr>\n",
       "<tr>\n",
       "  <th>opponent[T.Newcastle]</th>        <td>   -0.0974</td> <td>    0.100</td> <td>   -0.975</td> <td> 0.330</td> <td>   -0.293</td> <td>    0.098</td>\n",
       "</tr>\n",
       "<tr>\n",
       "  <th>opponent[T.Norwich]</th>          <td>   -0.1654</td> <td>    0.164</td> <td>   -1.005</td> <td> 0.315</td> <td>   -0.488</td> <td>    0.157</td>\n",
       "</tr>\n",
       "<tr>\n",
       "  <th>opponent[T.Sheffield United]</th> <td>   -0.2558</td> <td>    0.130</td> <td>   -1.970</td> <td> 0.049</td> <td>   -0.510</td> <td>   -0.001</td>\n",
       "</tr>\n",
       "<tr>\n",
       "  <th>opponent[T.Southampton]</th>      <td>    0.0265</td> <td>    0.097</td> <td>    0.273</td> <td> 0.785</td> <td>   -0.164</td> <td>    0.217</td>\n",
       "</tr>\n",
       "<tr>\n",
       "  <th>opponent[T.Stoke]</th>            <td>    0.0051</td> <td>    0.154</td> <td>    0.033</td> <td> 0.973</td> <td>   -0.297</td> <td>    0.307</td>\n",
       "</tr>\n",
       "<tr>\n",
       "  <th>opponent[T.Swansea]</th>          <td>   -0.2135</td> <td>    0.168</td> <td>   -1.273</td> <td> 0.203</td> <td>   -0.542</td> <td>    0.115</td>\n",
       "</tr>\n",
       "<tr>\n",
       "  <th>opponent[T.Tottenham]</th>        <td>    0.0544</td> <td>    0.096</td> <td>    0.564</td> <td> 0.572</td> <td>   -0.134</td> <td>    0.243</td>\n",
       "</tr>\n",
       "<tr>\n",
       "  <th>opponent[T.Watford]</th>          <td>   -0.0053</td> <td>    0.105</td> <td>   -0.050</td> <td> 0.960</td> <td>   -0.212</td> <td>    0.201</td>\n",
       "</tr>\n",
       "<tr>\n",
       "  <th>opponent[T.West Brom]</th>        <td>   -0.1118</td> <td>    0.124</td> <td>   -0.899</td> <td> 0.368</td> <td>   -0.355</td> <td>    0.132</td>\n",
       "</tr>\n",
       "<tr>\n",
       "  <th>opponent[T.West Ham]</th>         <td>    0.0301</td> <td>    0.097</td> <td>    0.310</td> <td> 0.756</td> <td>   -0.160</td> <td>    0.220</td>\n",
       "</tr>\n",
       "<tr>\n",
       "  <th>opponent[T.Wolves]</th>           <td>   -0.1988</td> <td>    0.111</td> <td>   -1.783</td> <td> 0.075</td> <td>   -0.417</td> <td>    0.020</td>\n",
       "</tr>\n",
       "<tr>\n",
       "  <th>home</th>                         <td>    0.1876</td> <td>    0.031</td> <td>    6.016</td> <td> 0.000</td> <td>    0.126</td> <td>    0.249</td>\n",
       "</tr>\n",
       "</table>"
      ],
      "text/plain": [
       "<class 'statsmodels.iolib.summary.Summary'>\n",
       "\"\"\"\n",
       "                 Generalized Linear Model Regression Results                  \n",
       "==============================================================================\n",
       "Dep. Variable:                  goals   No. Observations:                 3040\n",
       "Model:                            GLM   Df Residuals:                     2986\n",
       "Model Family:                 Poisson   Df Model:                           53\n",
       "Link Function:                    log   Scale:                          1.0000\n",
       "Method:                          IRLS   Log-Likelihood:                -4585.6\n",
       "Date:                Wed, 11 Aug 2021   Deviance:                       3831.8\n",
       "Time:                        13:04:42   Pearson chi2:                 3.37e+03\n",
       "No. Iterations:                     5                                         \n",
       "Covariance Type:            nonrobust                                         \n",
       "================================================================================================\n",
       "                                   coef    std err          z      P>|z|      [0.025      0.975]\n",
       "------------------------------------------------------------------------------------------------\n",
       "Intercept                        0.3666      0.098      3.753      0.000       0.175       0.558\n",
       "team[T.Aston Villa]             -0.0919      0.116     -0.790      0.430      -0.320       0.136\n",
       "team[T.Bournemouth]             -0.0810      0.102     -0.794      0.427      -0.281       0.119\n",
       "team[T.Brighton]                -0.2464      0.098     -2.516      0.012      -0.438      -0.054\n",
       "team[T.Burnley]                 -0.2973      0.099     -2.988      0.003      -0.492      -0.102\n",
       "team[T.Cardiff]                 -0.0134      0.146     -0.092      0.927      -0.299       0.272\n",
       "team[T.Chelsea]                 -0.2069      0.097     -2.127      0.033      -0.397      -0.016\n",
       "team[T.Crystal Palace]          -0.2492      0.098     -2.536      0.011      -0.442      -0.057\n",
       "team[T.Everton]                 -0.1831      0.096     -1.899      0.058      -0.372       0.006\n",
       "team[T.Fulham]                  -0.2249      0.122     -1.850      0.064      -0.463       0.013\n",
       "team[T.Huddersfield]            -0.3739      0.128     -2.914      0.004      -0.625      -0.122\n",
       "team[T.Leeds]                   -0.1765      0.157     -1.123      0.261      -0.485       0.132\n",
       "team[T.Leicester]               -0.1296      0.095     -1.360      0.174      -0.316       0.057\n",
       "team[T.Liverpool]                0.0036      0.092      0.039      0.969      -0.177       0.184\n",
       "team[T.Man City]                 0.1505      0.089      1.694      0.090      -0.024       0.325\n",
       "team[T.Man United]              -0.0399      0.093     -0.429      0.668      -0.222       0.142\n",
       "team[T.Newcastle]               -0.2419      0.098     -2.470      0.014      -0.434      -0.050\n",
       "team[T.Norwich]                 -0.0568      0.149     -0.382      0.703      -0.348       0.235\n",
       "team[T.Sheffield United]        -0.4271      0.131     -3.267      0.001      -0.683      -0.171\n",
       "team[T.Southampton]             -0.1100      0.095     -1.162      0.245      -0.296       0.076\n",
       "team[T.Stoke]                   -0.1757      0.156     -1.127      0.260      -0.481       0.130\n",
       "team[T.Swansea]                 -0.3846      0.169     -2.270      0.023      -0.717      -0.053\n",
       "team[T.Tottenham]               -0.0991      0.094     -1.049      0.294      -0.284       0.086\n",
       "team[T.Watford]                 -0.0988      0.102     -0.966      0.334      -0.299       0.102\n",
       "team[T.West Brom]               -0.1400      0.118     -1.188      0.235      -0.371       0.091\n",
       "team[T.West Ham]                -0.0459      0.093     -0.493      0.622      -0.228       0.137\n",
       "team[T.Wolves]                  -0.2392      0.107     -2.246      0.025      -0.448      -0.030\n",
       "opponent[T.Aston Villa]         -0.0440      0.121     -0.363      0.717      -0.282       0.194\n",
       "opponent[T.Bournemouth]          0.0922      0.103      0.898      0.369      -0.109       0.293\n",
       "opponent[T.Brighton]            -0.1955      0.102     -1.907      0.056      -0.396       0.005\n",
       "opponent[T.Burnley]             -0.1051      0.100     -1.051      0.293      -0.301       0.091\n",
       "opponent[T.Cardiff]             -0.1831      0.166     -1.103      0.270      -0.508       0.142\n",
       "opponent[T.Chelsea]              0.0666      0.096      0.694      0.488      -0.121       0.255\n",
       "opponent[T.Crystal Palace]      -0.0277      0.098     -0.282      0.778      -0.220       0.165\n",
       "opponent[T.Everton]             -0.0639      0.099     -0.645      0.519      -0.258       0.130\n",
       "opponent[T.Fulham]              -0.0597      0.122     -0.491      0.624      -0.298       0.179\n",
       "opponent[T.Huddersfield]        -0.0479      0.121     -0.396      0.692      -0.285       0.189\n",
       "opponent[T.Leeds]                0.2423      0.141      1.723      0.085      -0.033       0.518\n",
       "opponent[T.Leicester]            0.1009      0.095      1.059      0.289      -0.086       0.287\n",
       "opponent[T.Liverpool]            0.0648      0.096      0.673      0.501      -0.124       0.253\n",
       "opponent[T.Man City]             0.0965      0.096      1.008      0.313      -0.091       0.284\n",
       "opponent[T.Man United]          -0.0216      0.098     -0.220      0.826      -0.214       0.171\n",
       "opponent[T.Newcastle]           -0.0974      0.100     -0.975      0.330      -0.293       0.098\n",
       "opponent[T.Norwich]             -0.1654      0.164     -1.005      0.315      -0.488       0.157\n",
       "opponent[T.Sheffield United]    -0.2558      0.130     -1.970      0.049      -0.510      -0.001\n",
       "opponent[T.Southampton]          0.0265      0.097      0.273      0.785      -0.164       0.217\n",
       "opponent[T.Stoke]                0.0051      0.154      0.033      0.973      -0.297       0.307\n",
       "opponent[T.Swansea]             -0.2135      0.168     -1.273      0.203      -0.542       0.115\n",
       "opponent[T.Tottenham]            0.0544      0.096      0.564      0.572      -0.134       0.243\n",
       "opponent[T.Watford]             -0.0053      0.105     -0.050      0.960      -0.212       0.201\n",
       "opponent[T.West Brom]           -0.1118      0.124     -0.899      0.368      -0.355       0.132\n",
       "opponent[T.West Ham]             0.0301      0.097      0.310      0.756      -0.160       0.220\n",
       "opponent[T.Wolves]              -0.1988      0.111     -1.783      0.075      -0.417       0.020\n",
       "home                             0.1876      0.031      6.016      0.000       0.126       0.249\n",
       "================================================================================================\n",
       "\"\"\""
      ]
     },
     "execution_count": 10,
     "metadata": {},
     "output_type": "execute_result"
    }
   ],
   "source": [
    "model.summary()"
   ]
  },
  {
   "cell_type": "code",
   "execution_count": 11,
   "metadata": {},
   "outputs": [
    {
     "data": {
      "text/plain": [
       "1    1.480695\n",
       "dtype: float64"
      ]
     },
     "execution_count": 11,
     "metadata": {},
     "output_type": "execute_result"
    }
   ],
   "source": [
    "model.predict(pd.DataFrame(data={'team' : 'Liverpool', 'opponent' : 'Norwich', 'home' : 1},\n",
    "                           index=[1]))"
   ]
  },
  {
   "cell_type": "code",
   "execution_count": 12,
   "metadata": {},
   "outputs": [
    {
     "data": {
      "text/plain": [
       "1    1.454441\n",
       "dtype: float64"
      ]
     },
     "execution_count": 12,
     "metadata": {},
     "output_type": "execute_result"
    }
   ],
   "source": [
    "model.predict(pd.DataFrame(data={'team' : 'Norwich', 'opponent' : 'Liverpool', 'home' : 0},\n",
    "                           index=[1]))"
   ]
  },
  {
   "cell_type": "code",
   "execution_count": 13,
   "metadata": {},
   "outputs": [],
   "source": [
    "def simulate_match(foot_model, homeTeam, awayTeam, max_goals=10):\n",
    "    home_goals_avg = foot_model.predict(pd.DataFrame(data={'team': homeTeam, \n",
    "                                                            'opponent': awayTeam,'home':1},\n",
    "                                                      index=[1])).values[0]\n",
    "    away_goals_avg = foot_model.predict(pd.DataFrame(data={'team': awayTeam, \n",
    "                                                            'opponent': homeTeam,'home':0},\n",
    "                                                      index=[1])).values[0]\n",
    "    team_pred = [[poisson.pmf(i, team_avg) for i in range(0, max_goals+1)] for team_avg in [home_goals_avg, away_goals_avg]]\n",
    "    \n",
    "    \n",
    "    return(np.outer(np.array(team_pred[0]), np.array(team_pred[1])))"
   ]
  },
  {
   "cell_type": "code",
   "execution_count": 14,
   "metadata": {},
   "outputs": [],
   "source": [
    "home_team = 'Liverpool'\n",
    "away_team = 'Burnley'\n",
    "max_goals = 5\n",
    "\n",
    "score_probs = simulate_match(model, homeTeam=home_team, awayTeam=away_team, max_goals=max_goals)"
   ]
  },
  {
   "cell_type": "code",
   "execution_count": 15,
   "metadata": {},
   "outputs": [
    {
     "data": {
      "image/png": "[encoded data removed]",
      "text/plain": [
       "<Figure size 720x720 with 1 Axes>"
      ]
     },
     "metadata": {
      "needs_background": "light"
     },
     "output_type": "display_data"
    }
   ],
   "source": [
    "fig, ax = plt.subplots(figsize=(10,10))\n",
    "\n",
    "ax.imshow(score_probs)\n",
    "plt.xlabel(away_team)\n",
    "plt.ylabel(home_team)\n",
    "\n",
    "for i in range(max_goals+1):\n",
    "    for j in range(max_goals+1):\n",
    "        text = ax.text(j, i, np.around(score_probs[i, j], decimals=4),\n",
    "                       ha=\"center\", va=\"center\", color=\"w\")\n",
    "\n",
    "plt.show()"
   ]
  },
  {
   "cell_type": "code",
   "execution_count": 16,
   "metadata": {},
   "outputs": [],
   "source": [
    "#Seems to be predicting 1-1 for most of the games."
   ]
  },
  {
   "cell_type": "code",
   "execution_count": 17,
   "metadata": {},
   "outputs": [],
   "source": [
    "def rho_correction(x, y, lambda_x, mu_y, rho):\n",
    "    if x==0 and y==0:\n",
    "        return 1- (lambda_x * mu_y * rho)\n",
    "    elif x==0 and y==1:\n",
    "        return 1 + (lambda_x * rho)\n",
    "    elif x==1 and y==0:\n",
    "        return 1 + (mu_y * rho)\n",
    "    elif x==1 and y==1:\n",
    "        return 1 - rho\n",
    "    else:\n",
    "        return 1.0"
   ]
  },
  {
   "cell_type": "code",
   "execution_count": 18,
   "metadata": {},
   "outputs": [],
   "source": [
    "def dc_log_like(x, y, alpha_x, beta_x, alpha_y, beta_y, rho, gamma):\n",
    "    lambda_x, mu_y = np.exp(alpha_x + beta_y + gamma), np.exp(alpha_y + beta_x) \n",
    "    return (np.log(rho_correction(x, y, lambda_x, mu_y, rho)) + \n",
    "            np.log(poisson.pmf(x, lambda_x)) + np.log(poisson.pmf(y, mu_y)))"
   ]
  },
  {
   "cell_type": "code",
   "execution_count": 19,
   "metadata": {},
   "outputs": [],
   "source": [
    "def solve_parameters(dataset, debug = False, init_vals=None, options={'disp': True, 'maxiter':100},\n",
    "                     constraints = [{'type':'eq', 'fun': lambda x: sum(x[:20])-20}] , **kwargs):\n",
    "    teams = np.sort(dataset['HomeTeam'].unique())\n",
    "    # check for no weirdness in dataset\n",
    "    away_teams = np.sort(dataset['AwayTeam'].unique())\n",
    "    if not np.array_equal(teams, away_teams):\n",
    "        raise ValueError(\"Something's not right\")\n",
    "    n_teams = len(teams)\n",
    "    if init_vals is None:\n",
    "        # random initialisation of model parameters\n",
    "        init_vals = np.concatenate((np.random.uniform(0,1,(n_teams)), # attack strength\n",
    "                                      np.random.uniform(0,-1,(n_teams)), # defence strength\n",
    "                                      np.array([0, 1.0]) # rho (score correction), gamma (home advantage)\n",
    "                                     ))\n",
    "    def dc_log_like(x, y, alpha_x, beta_x, alpha_y, beta_y, rho, gamma):\n",
    "        lambda_x, mu_y = np.exp(alpha_x + beta_y + gamma), np.exp(alpha_y + beta_x) \n",
    "        return (np.log(rho_correction(x, y, lambda_x, mu_y, rho)) + \n",
    "                np.log(poisson.pmf(x, lambda_x)) + np.log(poisson.pmf(y, mu_y)))\n",
    "\n",
    "    def estimate_paramters(params):\n",
    "        score_coefs = dict(zip(teams, params[:n_teams]))\n",
    "        defend_coefs = dict(zip(teams, params[n_teams:(2*n_teams)]))\n",
    "        rho, gamma = params[-2:]\n",
    "        log_like = [dc_log_like(row.FTHG, row.FTAG, score_coefs[row.HomeTeam], defend_coefs[row.HomeTeam],\n",
    "                     score_coefs[row.AwayTeam], defend_coefs[row.AwayTeam], rho, gamma) for row in dataset.itertuples()]\n",
    "        return -sum(log_like)\n",
    "    opt_output = minimize(estimate_paramters, init_vals, options=options, constraints = constraints, **kwargs)\n",
    "    if debug:\n",
    "        # sort of hacky way to investigate the output of the optimisation process\n",
    "        return opt_output\n",
    "    else:\n",
    "        return dict(zip([\"attack_\"+team for team in teams] + \n",
    "                        [\"defence_\"+team for team in teams] +\n",
    "                        ['rho', 'home_adv'],\n",
    "                        opt_output.x))"
   ]
  },
  {
   "cell_type": "code",
   "execution_count": 20,
   "metadata": {
    "scrolled": true
   },
   "outputs": [
    {
     "name": "stderr",
     "output_type": "stream",
     "text": [
      "<ipython-input-19-a541f3662098>:18: RuntimeWarning: divide by zero encountered in log\n",
      "  np.log(poisson.pmf(x, lambda_x)) + np.log(poisson.pmf(y, mu_y)))\n",
      "<ipython-input-19-a541f3662098>:17: RuntimeWarning: invalid value encountered in log\n",
      "  return (np.log(rho_correction(x, y, lambda_x, mu_y, rho)) +\n"
     ]
    },
    {
     "name": "stdout",
     "output_type": "stream",
     "text": [
      "Optimization terminated successfully    (Exit mode 0)\n",
      "            Current function value: 4336.532707593134\n",
      "            Iterations: 70\n",
      "            Function evaluations: 4117\n",
      "            Gradient evaluations: 70\n"
     ]
    }
   ],
   "source": [
    "params = solve_parameters(data)"
   ]
  },
  {
   "cell_type": "code",
   "execution_count": 21,
   "metadata": {},
   "outputs": [],
   "source": [
    "def calc_means(param_dict, homeTeam, awayTeam):\n",
    "    return [np.exp(param_dict['attack_'+homeTeam] + param_dict['defence_'+awayTeam] + param_dict['home_adv']),\n",
    "            np.exp(param_dict['defence_'+homeTeam] + param_dict['attack_'+awayTeam])]\n",
    "\n",
    "def dixon_coles_simulate_match(params_dict, homeTeam, awayTeam, max_goals=5):\n",
    "    team_avgs = calc_means(params_dict, homeTeam, awayTeam)\n",
    "    team_pred = [[poisson.pmf(i, team_avg) for i in range(0, max_goals+1)] for team_avg in team_avgs]\n",
    "    output_matrix = np.outer(np.array(team_pred[0]), np.array(team_pred[1]))\n",
    "    correction_matrix = np.array([[rho_correction(home_goals, away_goals, team_avgs[0],\n",
    "                                                   team_avgs[1], params['rho']) for away_goals in range(2)]\n",
    "                                   for home_goals in range(2)])\n",
    "    output_matrix[:2,:2] = output_matrix[:2,:2] * correction_matrix\n",
    "    return output_matrix"
   ]
  },
  {
   "cell_type": "code",
   "execution_count": 22,
   "metadata": {},
   "outputs": [],
   "source": [
    "home_team = 'Man City'\n",
    "away_team = 'Arsenal'\n",
    "max_goals = 5\n",
    "\n",
    "score_probs = dixon_coles_simulate_match(params, home_team, away_team, max_goals=max_goals)"
   ]
  },
  {
   "cell_type": "code",
   "execution_count": 23,
   "metadata": {},
   "outputs": [
    {
     "data": {
      "image/png": "[encoded data removed]",
      "text/plain": [
       "<Figure size 720x720 with 1 Axes>"
      ]
     },
     "metadata": {
      "needs_background": "light"
     },
     "output_type": "display_data"
    }
   ],
   "source": [
    "fig, ax = plt.subplots(figsize=(10,10))\n",
    "\n",
    "ax.imshow(score_probs)\n",
    "plt.xlabel(away_team)\n",
    "plt.ylabel(home_team)\n",
    "plt.title(f'{home_team} (Home) vs {away_team} (Away)')\n",
    "\n",
    "for i in range(max_goals+1):\n",
    "    for j in range(max_goals+1):\n",
    "        if score_probs[i, j] == np.max(score_probs):\n",
    "            text = ax.text(j, i, np.around(score_probs[i, j], decimals=4),\n",
    "                           ha=\"center\", va=\"center\", color=\"r\")\n",
    "        else:\n",
    "            text = ax.text(j, i, np.around(score_probs[i, j], decimals=4),\n",
    "                           ha=\"center\", va=\"center\", color=\"w\")\n",
    "\n",
    "plt.show()"
   ]
  },
  {
   "cell_type": "code",
   "execution_count": 24,
   "metadata": {},
   "outputs": [],
   "source": [
    "def solve_parameters_decay(dataset, xi=0.001, debug = False, init_vals=None, options={'disp': True, 'maxiter':100},\n",
    "                     constraints = [{'type':'eq', 'fun': lambda x: sum(x[:20])-20}] , **kwargs):\n",
    "    teams = np.sort(dataset['HomeTeam'].unique())\n",
    "    # check for no weirdness in dataset\n",
    "    away_teams = np.sort(dataset['AwayTeam'].unique())\n",
    "    if not np.array_equal(teams, away_teams):\n",
    "        raise ValueError(\"something not right\")\n",
    "    n_teams = len(teams)\n",
    "    if init_vals is None:\n",
    "        # random initialisation of model parameters\n",
    "        init_vals = np.concatenate((np.random.uniform(0,1,(n_teams)), # attack strength\n",
    "                                      np.random.uniform(0,-1,(n_teams)), # defence strength\n",
    "                                      np.array([0,1.0]) # rho (score correction), gamma (home advantage)\n",
    "                                     ))\n",
    "        \n",
    "    def dc_log_like_decay(x, y, alpha_x, beta_x, alpha_y, beta_y, rho, gamma, t, xi=xi):\n",
    "        lambda_x, mu_y = np.exp(alpha_x + beta_y + gamma), np.exp(alpha_y + beta_x) \n",
    "        return  np.exp(-xi*t) * (np.log(rho_correction(x, y, lambda_x, mu_y, rho)) + \n",
    "                                  np.log(poisson.pmf(x, lambda_x)) + np.log(poisson.pmf(y, mu_y)))\n",
    "\n",
    "    def estimate_paramters(params):\n",
    "        score_coefs = dict(zip(teams, params[:n_teams]))\n",
    "        defend_coefs = dict(zip(teams, params[n_teams:(2*n_teams)]))\n",
    "        rho, gamma = params[-2:]\n",
    "        log_like = [dc_log_like_decay(row.FTHG, row.FTAG, score_coefs[row.HomeTeam], defend_coefs[row.HomeTeam],\n",
    "                                      score_coefs[row.AwayTeam], defend_coefs[row.AwayTeam], \n",
    "                                      rho, gamma, row.time_diff, xi=xi) for row in dataset.itertuples()]\n",
    "        return -sum(log_like)\n",
    "    opt_output = minimize(estimate_paramters, init_vals, options=options, constraints = constraints)\n",
    "    if debug:\n",
    "        # sort of hacky way to investigate the output of the optimisation process\n",
    "        return opt_output\n",
    "    else:\n",
    "        return dict(zip([\"attack_\"+team for team in teams] + \n",
    "                        [\"defence_\"+team for team in teams] +\n",
    "                        ['rho', 'home_adv'],\n",
    "                        opt_output.x))"
   ]
  },
  {
   "cell_type": "code",
   "execution_count": 25,
   "metadata": {},
   "outputs": [
    {
     "name": "stderr",
     "output_type": "stream",
     "text": [
      "<ipython-input-24-61056e9edd7d>:19: RuntimeWarning: divide by zero encountered in log\n",
      "  np.log(poisson.pmf(x, lambda_x)) + np.log(poisson.pmf(y, mu_y)))\n",
      "<ipython-input-24-61056e9edd7d>:18: RuntimeWarning: invalid value encountered in log\n",
      "  return  np.exp(-xi*t) * (np.log(rho_correction(x, y, lambda_x, mu_y, rho)) +\n"
     ]
    },
    {
     "name": "stdout",
     "output_type": "stream",
     "text": [
      "Optimization terminated successfully    (Exit mode 0)\n",
      "            Current function value: 875.4272962325622\n",
      "            Iterations: 66\n",
      "            Function evaluations: 3851\n",
      "            Gradient evaluations: 66\n"
     ]
    }
   ],
   "source": [
    "params_2 = solve_parameters_decay(data, xi=0.00325)"
   ]
  },
  {
   "cell_type": "code",
   "execution_count": 26,
   "metadata": {
    "scrolled": true
   },
   "outputs": [
    {
     "data": {
      "text/plain": [
       "{'attack_Arsenal': 1.2989048644716479,\n",
       " 'attack_Aston Villa': 1.0575265633013715,\n",
       " 'attack_Bournemouth': 1.026801830711719,\n",
       " 'attack_Brighton': 0.8173325149956401,\n",
       " 'attack_Burnley': 0.8470556683998886,\n",
       " 'attack_Cardiff': 0.7918241023414495,\n",
       " 'attack_Chelsea': 1.291386269921952,\n",
       " 'attack_Crystal Palace': 0.8846925740716014,\n",
       " 'attack_Everton': 0.9795013279642164,\n",
       " 'attack_Fulham': 0.4667339610875318,\n",
       " 'attack_Huddersfield': 0.3589432244431294,\n",
       " 'attack_Leeds': 1.392090305811654,\n",
       " 'attack_Leicester': 1.3861683330336907,\n",
       " 'attack_Liverpool': 1.4536645460638247,\n",
       " 'attack_Man City': 1.7623773557515126,\n",
       " 'attack_Man United': 1.503567571764447,\n",
       " 'attack_Newcastle': 1.0471997743442423,\n",
       " 'attack_Norwich': 0.16116995710145923,\n",
       " 'attack_Sheffield United': 0.3934618310403475,\n",
       " 'attack_Southampton': 1.0795974233786783,\n",
       " 'attack_Stoke': 0.6613201852433421,\n",
       " 'attack_Swansea': 0.47070277633128355,\n",
       " 'attack_Tottenham': 1.3875542858029466,\n",
       " 'attack_Watford': 0.9868785290039588,\n",
       " 'attack_West Brom': 0.9111091201809538,\n",
       " 'attack_West Ham': 1.299965070743683,\n",
       " 'attack_Wolves': 0.8954315967980103,\n",
       " 'defence_Arsenal': -1.1472440027097328,\n",
       " 'defence_Aston Villa': -0.9024913513983004,\n",
       " 'defence_Bournemouth': -0.5780599746816903,\n",
       " 'defence_Brighton': -0.9905743514402927,\n",
       " 'defence_Burnley': -0.8658173678520125,\n",
       " 'defence_Cardiff': -0.7227833714960441,\n",
       " 'defence_Chelsea': -1.1575041212660309,\n",
       " 'defence_Crystal Palace': -0.6581864927461406,\n",
       " 'defence_Everton': -0.9868225161830136,\n",
       " 'defence_Fulham': -0.8513056839399645,\n",
       " 'defence_Huddersfield': -0.5789869175746234,\n",
       " 'defence_Leeds': -0.993242494860217,\n",
       " 'defence_Leicester': -0.8674598390104536,\n",
       " 'defence_Liverpool': -1.189873606782021,\n",
       " 'defence_Man City': -1.2548833345465353,\n",
       " 'defence_Man United': -1.151519412419915,\n",
       " 'defence_Newcastle': -0.7544423971744123,\n",
       " 'defence_Norwich': -0.48694235702850813,\n",
       " 'defence_Sheffield United': -0.8271652303504476,\n",
       " 'defence_Southampton': -0.6179621926812192,\n",
       " 'defence_Stoke': -0.6854563704341106,\n",
       " 'defence_Swansea': -0.8381971069889956,\n",
       " 'defence_Tottenham': -0.9767412435788249,\n",
       " 'defence_Watford': -0.6796023035577026,\n",
       " 'defence_West Brom': -0.6019138090306716,\n",
       " 'defence_West Ham': -0.9111445712386894,\n",
       " 'defence_Wolves': -0.9618975089468809,\n",
       " 'rho': -0.024029669963311833,\n",
       " 'home_adv': 0.07101334582689468}"
      ]
     },
     "execution_count": 26,
     "metadata": {},
     "output_type": "execute_result"
    }
   ],
   "source": [
    "params_2"
   ]
  },
  {
   "cell_type": "code",
   "execution_count": 27,
   "metadata": {},
   "outputs": [],
   "source": [
    "home_team = 'Liverpool'\n",
    "away_team = 'Norwich'\n",
    "max_goals = 5\n",
    "\n",
    "score_probs = dixon_coles_simulate_match(params_2, homeTeam=home_team, awayTeam=away_team, max_goals=max_goals)"
   ]
  },
  {
   "cell_type": "code",
   "execution_count": 31,
   "metadata": {},
   "outputs": [],
   "source": [
    "def plot_score_probs(score_probs):\n",
    "\n",
    "    fig, ax = plt.subplots(figsize=(10,10))\n",
    "\n",
    "    ax.imshow(score_probs)\n",
    "    plt.xlabel(away_team)\n",
    "    plt.ylabel(home_team)\n",
    "    plt.title(f'{home_team} (Home) vs {away_team} (Away)')\n",
    "\n",
    "    for i in range(max_goals+1):\n",
    "        for j in range(max_goals+1):\n",
    "            if score_probs[i, j] == np.max(score_probs):\n",
    "                text = ax.text(j, i, np.around(score_probs[i, j], decimals=4),\n",
    "                               ha=\"center\", va=\"center\", color=\"r\")\n",
    "            else:\n",
    "                text = ax.text(j, i, np.around(score_probs[i, j], decimals=4),\n",
    "                               ha=\"center\", va=\"center\", color=\"w\")\n",
    "\n",
    "    plt.show()"
   ]
  },
  {
   "cell_type": "code",
   "execution_count": 32,
   "metadata": {},
   "outputs": [
    {
     "data": {
      "image/png": "[encoded data removed]",
      "text/plain": [
       "<Figure size 720x720 with 1 Axes>"
      ]
     },
     "metadata": {
      "needs_background": "light"
     },
     "output_type": "display_data"
    }
   ],
   "source": [
    "plot_score_probs(score_probs)"
   ]
  },
  {
   "cell_type": "code",
   "execution_count": 30,
   "metadata": {},
   "outputs": [
    {
     "data": {
      "text/plain": [
       "(2, 0)"
      ]
     },
     "execution_count": 30,
     "metadata": {},
     "output_type": "execute_result"
    }
   ],
   "source": [
    "np.unravel_index(score_probs.argmax(), score_probs.shape)"
   ]
  },
  {
   "cell_type": "code",
   "execution_count": null,
   "metadata": {},
   "outputs": [],
   "source": [
    "np.sum(np.array([1,2,3]) * np.array([1,2,3]))"
   ]
  },
  {
   "cell_type": "code",
   "execution_count": null,
   "metadata": {},
   "outputs": [],
   "source": [
    "def points_func(m, element_type):\n",
    "    #(score, assist, nothing)\n",
    "    \n",
    "    if element_type == 'DEF': return np.sum(m * np.array([6, 3, 0]))\n",
    "    if element_type == 'MID': return np.sum(m * np.array([5, 3, 0]))\n",
    "    if element_type == 'FWD': return np.sum(m * np.array([4, 3, 0]))\n",
    "    \n",
    "def prob_score(T, theta):\n",
    "    \n",
    "    return T * theta / 90\n",
    "\n",
    "def prob_assist(T, theta):\n",
    "    \n",
    "    return T * theta / 90\n",
    "\n",
    "def prob_nothing(T, theta):\n",
    "    \n",
    "    return (T * (theta - 1) + 90) / 90"
   ]
  },
  {
   "cell_type": "code",
   "execution_count": null,
   "metadata": {},
   "outputs": [],
   "source": [
    "np.random.multinomial()"
   ]
  }
 ],
 "metadata": {
  "kernelspec": {
   "display_name": "Python 3",
   "language": "python",
   "name": "python3"
  },
  "language_info": {
   "codemirror_mode": {
    "name": "ipython",
    "version": 3
   },
   "file_extension": ".py",
   "mimetype": "text/x-python",
   "name": "python",
   "nbconvert_exporter": "python",
   "pygments_lexer": "ipython3",
   "version": "3.8.3"
  }
 },
 "nbformat": 4,
 "nbformat_minor": 4
}
